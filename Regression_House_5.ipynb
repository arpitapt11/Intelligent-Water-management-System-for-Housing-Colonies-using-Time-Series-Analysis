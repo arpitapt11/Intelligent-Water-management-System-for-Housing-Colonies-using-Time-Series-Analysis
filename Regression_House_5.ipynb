{
 "cells": [
  {
   "cell_type": "code",
   "execution_count": 7,
   "metadata": {},
   "outputs": [],
   "source": [
    "#Importing required libraries\n",
    "\n",
    "import warnings\n",
    "import itertools \n",
    "import pandas as pd\n",
    "import numpy as np\n",
    "import scipy.stats as stats\n",
    "import matplotlib.mlab as mlab\n",
    "import matplotlib.pyplot as plt\n",
    "import math\n",
    "from io import StringIO\n",
    "import requests\n",
    "import sklearn\n",
    "from sklearn.linear_model import LinearRegression\n",
    "from sklearn.metrics import mean_squared_error\n",
    "from math import sqrt\n",
    "from sklearn.utils import check_array"
   ]
  },
  {
   "cell_type": "code",
   "execution_count": 8,
   "metadata": {},
   "outputs": [
    {
     "name": "stdout",
     "output_type": "stream",
     "text": [
      "Data with months(Jan-10 to June-15) replaced by integral values (1 to 66)\n",
      "    Quantity  Serial\n",
      "0     218.38       1\n",
      "1     187.07       2\n",
      "2     201.23       3\n",
      "3     219.55       4\n",
      "4     214.70       5\n",
      "5     193.13       6\n",
      "6     229.12       7\n",
      "7     151.00       8\n",
      "8     220.37       9\n",
      "9     236.03      10\n",
      "10    223.53      11\n",
      "11    238.29      12\n",
      "12    212.74      13\n",
      "13     92.04      14\n",
      "14     91.48      15\n",
      "15     92.50      16\n",
      "16    129.81      17\n",
      "17    124.00      18\n",
      "18    135.48      19\n",
      "19     84.23      20\n",
      "20    184.70      21\n",
      "21    255.58      22\n",
      "22    177.13      23\n",
      "23    186.77      24\n",
      "24    247.23      25\n",
      "25    202.38      26\n",
      "26    244.22      27\n",
      "27    270.53      28\n",
      "28    275.51      29\n",
      "29    311.42      30\n",
      "..       ...     ...\n",
      "36    225.45      37\n",
      "37    213.29      38\n",
      "38    179.56      39\n",
      "39    173.78      40\n",
      "40    165.25      41\n",
      "41    147.53      42\n",
      "42    196.38      43\n",
      "43    111.38      44\n",
      "44    179.04      45\n",
      "45    187.20      46\n",
      "46    223.53      47\n",
      "47    214.45      48\n",
      "48    201.80      49\n",
      "49    185.29      50\n",
      "50    197.72      51\n",
      "51    188.13      52\n",
      "52    134.26      53\n",
      "53    206.59      54\n",
      "54    148.44      55\n",
      "55    140.54      56\n",
      "56    171.64      57\n",
      "57    156.45      58\n",
      "58    181.40      59\n",
      "59    187.01      60\n",
      "60    205.22      61\n",
      "61    161.57      62\n",
      "62    166.36      63\n",
      "63    170.27      64\n",
      "64    153.96      65\n",
      "65    147.07      66\n",
      "\n",
      "[66 rows x 2 columns]\n"
     ]
    }
   ],
   "source": [
    "df = pd.read_csv('original_data.csv')\n",
    "df_ser = pd.read_csv('serial.csv')\n",
    "df.dropna(axis=1,inplace=True)\n",
    "dates = pd.date_range(start='2010-01-01', freq='MS', periods=len(df))\n",
    "\n",
    "#joining data frames to form a combined data frame called: combined\n",
    "combined=pd.merge(df,df_ser, on= 'Date')\n",
    "d = combined.drop(columns=['Date'])\n",
    "print('Data with months(Jan-10 to June-15) replaced by integral values (1 to 66)')\n",
    "print(d)\n",
    "\n"
   ]
  },
  {
   "cell_type": "code",
   "execution_count": null,
   "metadata": {},
   "outputs": [],
   "source": [
    "#Linear Model for 5.5 years of Data"
   ]
  },
  {
   "cell_type": "code",
   "execution_count": 9,
   "metadata": {},
   "outputs": [
    {
     "name": "stdout",
     "output_type": "stream",
     "text": [
      "Regression Coefficients:\n",
      "(0.36512430852729366, 203.24014918414915)\n"
     ]
    },
    {
     "data": {
      "image/png": "[encoded data removed]",
      "text/plain": [
       "<Figure size 432x288 with 1 Axes>"
      ]
     },
     "metadata": {
      "needs_background": "light"
     },
     "output_type": "display_data"
    }
   ],
   "source": [
    "#Extracting values of columns into different DataFrames for X and Y coordinates\n",
    "X = d['Serial'].values #Serail Numbers\n",
    "Y = d['Quantity'].values #Consumption values\n",
    "\n",
    "#Mean values\n",
    "mean_X = np.mean(X)\n",
    "mean_Y = np.mean(Y)\n",
    "\n",
    "#Number of Records\n",
    "m= len(X)\n",
    "\n",
    "#Numerator and Denominators to calculate Regression Coefficients\n",
    "num=0\n",
    "den=0\n",
    "\n",
    "for i in range(m):\n",
    "    num += (X[i] - mean_X) * (Y[i] - mean_Y)\n",
    "    den += (X[i] - mean_X) ** 2\n",
    "    \n",
    "#Calculating Regression Coefficients\n",
    "B1 = num / den\n",
    "B0 = mean_Y - (B1 * mean_X)\n",
    "#Getting absolute Regressive Coefficient values B_1,\n",
    "B_1=abs(B1)\n",
    "B_0=abs(B0)\n",
    "print('Regression Coefficients:')\n",
    "print(B_1,B_0)\n",
    "\n",
    "\n",
    "#Plotting values and Regression Line\n",
    "max_X = np.max(X)+100\n",
    "min_X = np.min(X)-100\n",
    "\n",
    "# Calculating line values a and b\n",
    "a = np.linspace(min_X, max_X, 1000)\n",
    "b = B_0 + B_1 * a\n",
    "\n",
    "\n",
    "# Ploting Regression Line\n",
    "plt.plot(a, b, color='g', label='Regression Line')\n",
    "\n",
    "# Ploting Scatter Points\n",
    "plt.scatter(X, Y, color='r', label='Consumption values')\n",
    "plt.xlabel('Serial Numbers (1 to 66 for each month for 5.5 years )')\n",
    "plt.ylabel('Consumption of Water')\n",
    "plt.legend(loc='best')\n",
    "plt.title('Regression Curve')\n",
    "plt.show()\n",
    "\n"
   ]
  },
  {
   "cell_type": "code",
   "execution_count": null,
   "metadata": {},
   "outputs": [],
   "source": []
  },
  {
   "cell_type": "code",
   "execution_count": null,
   "metadata": {},
   "outputs": [],
   "source": []
  },
  {
   "cell_type": "code",
   "execution_count": null,
   "metadata": {},
   "outputs": [],
   "source": [
    "#Linear Model based upon Predicted and Original values of last 6 months of Data"
   ]
  },
  {
   "cell_type": "code",
   "execution_count": 10,
   "metadata": {},
   "outputs": [
    {
     "name": "stdout",
     "output_type": "stream",
     "text": [
      "Regression Coefficients:\n",
      "(1.9971428571428564, 322.48333333333335)\n"
     ]
    },
    {
     "data": {
      "image/png": "[encoded data removed]",
      "text/plain": [
       "<Figure size 432x288 with 1 Axes>"
      ]
     },
     "metadata": {
      "needs_background": "light"
     },
     "output_type": "display_data"
    }
   ],
   "source": [
    "#Extracting values of columns into different DataFrames for X and Y coordinates\n",
    "pred = pd.read_csv('org_data.csv')\n",
    "test = pd.read_csv('test_data.csv')\n",
    "\n",
    "Xx = pred['Serial'].values #Serail Numbers\n",
    "Yy = pred['Quantity'].values #Consumption values\n",
    "\n",
    "#Mean values\n",
    "mean_Xx = np.mean(Xx)\n",
    "mean_Yy = np.mean(Yy)\n",
    "\n",
    "#Number of Records\n",
    "m1 = len(Xx)\n",
    "\n",
    "#Numerator and Denominators to calculate Regression Coefficients\n",
    "num1=0\n",
    "den1=0\n",
    "\n",
    "for i in range(m1):\n",
    "    num1 += (Xx[i] - mean_Xx) * (Yy[i] - mean_Yy)\n",
    "    den1 += (Xx[i] - mean_Xx) ** 2\n",
    "    \n",
    "#Calculating Regression Coefficients\n",
    "b1 = num1 / den1\n",
    "b0 = mean_Yy - (b1 * mean_Xx)\n",
    "#Getting absolute Regressive Coefficient values B_1,\n",
    "b_1=abs(b1)\n",
    "b_0=abs(b0)\n",
    "print('Regression Coefficients:')\n",
    "print(b_1,b_0)\n",
    "\n",
    "\n",
    "\n",
    "#Plotting values and Regression Line\n",
    "max_Xx = np.max(Xx)+100\n",
    "min_Xx = np.min(Xx)-100\n",
    "\n",
    "# Calculating line values a and b\n",
    "a1 = np.linspace(min_Xx, max_Xx, 1000)\n",
    "b1 = b_0 + b_1 * a1\n",
    "\n",
    "\n",
    "# Ploting Regression Line\n",
    "plt.plot(a1, b1, color='g', label='Regression Line for last 6 months')\n",
    "\n",
    "# Ploting Scatter Points\n",
    "plt.scatter(X, Y, color='r', label='Consumption values fro last 6 months')\n",
    "plt.xlabel('Serial Numbers (1 to 66 for each month Jul-Dec-2015 )')\n",
    "plt.ylabel('Consumption of Water')\n",
    "plt.legend(loc='best')\n",
    "plt.title('Regression Curve last 6 months')\n",
    "plt.show()\n",
    "\n"
   ]
  },
  {
   "cell_type": "code",
   "execution_count": 11,
   "metadata": {},
   "outputs": [
    {
     "name": "stdout",
     "output_type": "stream",
     "text": [
      "Predicted Values:\n",
      "[[  1.         337.88371615]\n",
      " [  2.         223.71703647]\n",
      " [  3.         367.41718044]\n",
      " [  4.         386.02949754]\n",
      " [  5.         331.98273697]\n",
      " [  6.         127.76983243]]\n"
     ]
    }
   ],
   "source": [
    "#Predicted Values\n",
    "\n",
    "#Fitting created Linear model using test data\n",
    "\n",
    "lm=LinearRegression()\n",
    "lm.fit(pred,test,sample_weight=None)\n",
    "print('Predicted Values:')\n",
    "print(lm.predict(pred))"
   ]
  },
  {
   "cell_type": "code",
   "execution_count": 12,
   "metadata": {},
   "outputs": [
    {
     "data": {
      "image/png": "[encoded data removed]",
      "text/plain": [
       "<Figure size 432x288 with 1 Axes>"
      ]
     },
     "metadata": {
      "needs_background": "light"
     },
     "output_type": "display_data"
    }
   ],
   "source": [
    "x1= test['Quantity'].values\n",
    "y1= test['Serial'].values\n",
    "x2= pred['Quantity'].values\n",
    "y2= pred['Serial'].values\n",
    "\n",
    "#Comparison plot for last 6 months Jul'15 to Dec'15\n",
    "plt.plot(y2,x2, color='g', label='Predicted')\n",
    "plt.scatter(y1, x1, color='r', label='Original')\n",
    "plt.xlabel('Serial Numbers 1 to 6 for last 6 months for 2015 ')\n",
    "plt.ylabel('Consumption of Water')\n",
    "plt.legend(loc='best')\n",
    "plt.title('Comparison Curve between original and predicted values')\n",
    "plt.show()"
   ]
  },
  {
   "cell_type": "code",
   "execution_count": 15,
   "metadata": {},
   "outputs": [
    {
     "name": "stdout",
     "output_type": "stream",
     "text": [
      "RMSE value calculated for this Linear Model is:\n",
      "RMSE: 0.445415\n"
     ]
    }
   ],
   "source": [
    "#Calculating RMSE values for this Linear Model\n",
    "rmse = 0\n",
    "er = test-pred\n",
    "abs(er)\n",
    "mse = mean_squared_error(test, pred)\n",
    "rmse = sqrt(mse)/100\n",
    "print('RMSE value calculated for this Linear Model is:')\n",
    "print('RMSE: %f' % rmse)\n",
    "\n",
    "\n",
    "\n"
   ]
  },
  {
   "cell_type": "code",
   "execution_count": 14,
   "metadata": {},
   "outputs": [
    {
     "name": "stdout",
     "output_type": "stream",
     "text": [
      "MAPE value calculated for this Linear Model is:\n",
      "23.81666421847766\n"
     ]
    }
   ],
   "source": [
    "#Calculating MAPE value for this Linear Model\n",
    "\n",
    "org = test\n",
    "pre = pred\n",
    "\n",
    "q=check_array(org,pred)\n",
    "soln = np.mean(np.abs((org - pre) / org)) * 100 #has MAPE value\n",
    "print('MAPE value calculated for this Linear Model is:') \n",
    "print(soln['Quantity'])"
   ]
  },
  {
   "cell_type": "code",
   "execution_count": null,
   "metadata": {},
   "outputs": [],
   "source": [
    "#END"
   ]
  }
 ],
 "metadata": {
  "kernelspec": {
   "display_name": "Python 2",
   "language": "python",
   "name": "python2"
  },
  "language_info": {
   "codemirror_mode": {
    "name": "ipython",
    "version": 2
   },
   "file_extension": ".py",
   "mimetype": "text/x-python",
   "name": "python",
   "nbconvert_exporter": "python",
   "pygments_lexer": "ipython2",
   "version": "2.7.15"
  }
 },
 "nbformat": 4,
 "nbformat_minor": 2
}
